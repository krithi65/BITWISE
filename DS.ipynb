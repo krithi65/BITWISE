{
  "nbformat": 4,
  "nbformat_minor": 0,
  "metadata": {
    "colab": {
      "name": "DS.ipynb",
      "provenance": [],
      "authorship_tag": "ABX9TyNCcVr09tf3lnk1f5j/YH40",
      "include_colab_link": true
    },
    "kernelspec": {
      "name": "python3",
      "display_name": "Python 3"
    },
    "language_info": {
      "name": "python"
    }
  },
  "cells": [
    {
      "cell_type": "markdown",
      "metadata": {
        "id": "view-in-github",
        "colab_type": "text"
      },
      "source": [
        "<a href=\"https://colab.research.google.com/github/krithi65/BITWISE/blob/main/DS.ipynb\" target=\"_parent\"><img src=\"https://colab.research.google.com/assets/colab-badge.svg\" alt=\"Open In Colab\"/></a>"
      ]
    },
    {
      "cell_type": "markdown",
      "source": [
        "bit manipulation:"
      ],
      "metadata": {
        "id": "_-O6VB4luURU"
      }
    },
    {
      "cell_type": "markdown",
      "source": [
        "1.print the number which is formed after manipulation in O(1) time complexity"
      ],
      "metadata": {
        "id": "WwZWJDJiuYX6"
      }
    },
    {
      "cell_type": "code",
      "source": [
        "x=int(input())\n",
        "# Get all even bits of x\n",
        "even_bits = x & 0xAAAAAAAA\n",
        " \n",
        "# Get all odd bits of x\n",
        "odd_bits = x & 0x55555555\n",
        "     \n",
        "# Right shift even bits\n",
        "even_bits >>= 1\n",
        "     \n",
        "# Left shift odd bits\n",
        "odd_bits <<= 1\n",
        " \n",
        "# Combine even and odd bits\n",
        "print (even_bits | odd_bits)"
      ],
      "metadata": {
        "id": "ZZqMC1wBuZcs"
      },
      "execution_count": null,
      "outputs": []
    },
    {
      "cell_type": "markdown",
      "source": [
        "2. First bit starts from right.(0 based indexing)"
      ],
      "metadata": {
        "id": "BU0FBeUgucOG"
      }
    },
    {
      "cell_type": "code",
      "source": [
        "n = int(input())\n",
        "bit = int(input())\n",
        "a = list(str(bin(n))[2:])\n",
        "#print(a)\n",
        "a.reverse()\n",
        "#print(a)\n",
        "if a[bit] == '1': \n",
        "    print('true')\n",
        "else: \n",
        "    print('False')"
      ],
      "metadata": {
        "id": "FAf5Z3wtuift"
      },
      "execution_count": null,
      "outputs": []
    },
    {
      "cell_type": "markdown",
      "source": [
        "3. find the sum of XOR pairs of numbers in the array."
      ],
      "metadata": {
        "id": "YgYd_ZVTulGM"
      }
    },
    {
      "cell_type": "code",
      "source": [
        "n = int(input())\n",
        "l = [int(x) for x in input().split()]\n",
        "sm = 0\n",
        "for i in range(n):\n",
        "    for j in range(i+1, n):\n",
        "        sm += (l[i] ^ l[j])\n",
        "print(sm)"
      ],
      "metadata": {
        "id": "MHOs-SdXusHb"
      },
      "execution_count": null,
      "outputs": []
    },
    {
      "cell_type": "markdown",
      "source": [
        "4.Write a program to get a string as input and reverse the string without using temporary variable."
      ],
      "metadata": {
        "id": "xdn4Xv8YuvQB"
      }
    },
    {
      "cell_type": "code",
      "source": [
        "a=input()\n",
        "print(a[ ::-1])"
      ],
      "metadata": {
        "id": "_sga6URTu580"
      },
      "execution_count": null,
      "outputs": []
    },
    {
      "cell_type": "markdown",
      "source": [
        "5.Your task is to find the max no of consecutive 1’s. If there are no 1’s print -1"
      ],
      "metadata": {
        "id": "SJyDyC4Qu9c8"
      }
    },
    {
      "cell_type": "code",
      "source": [
        "\n",
        "def getMaxLength(x, n):\n",
        "\n",
        "\t\n",
        "\tcount = 0\n",
        "\tresult = 0\n",
        "\n",
        "\tfor i in range(0, n):\n",
        "\t\tif (x[i] == 0):\n",
        "\t\t\tcount = 0\n",
        "    \n",
        "\t\t\n",
        "\t\telse:\n",
        "\t\t\t\n",
        "\t\t\t\n",
        "\t\t\tcount+= 1\n",
        "\t\t\tresult = max(result, count)\n",
        "\t\t\n",
        "\treturn result\n",
        "num=input()\n",
        "x=[int(a) for a in str(num)]\n",
        "n = len(x)\n",
        "if(getMaxLength(x, n)>1):\n",
        "    print(getMaxLength(x,n))\n",
        "else:\n",
        "    print(-1)"
      ],
      "metadata": {
        "id": "qHxIun8Cu8hk"
      },
      "execution_count": null,
      "outputs": []
    },
    {
      "cell_type": "markdown",
      "source": [
        "7.Print the smallest perfect power of 2 greater than n."
      ],
      "metadata": {
        "id": "b6DJpETIvE3n"
      }
    },
    {
      "cell_type": "code",
      "source": [
        "n=int(input( ))\n",
        "power=1\n",
        "while n>0:\n",
        "    power=power<<1\n",
        "    n=n>>1\n",
        "print(power)    "
      ],
      "metadata": {
        "id": "zYo5a21JvMn5"
      },
      "execution_count": null,
      "outputs": []
    },
    {
      "cell_type": "markdown",
      "source": [
        "8.Count the number of 1 in string"
      ],
      "metadata": {
        "id": "ugC5OF5MvPNA"
      }
    },
    {
      "cell_type": "code",
      "source": [
        "n=int(input())\n",
        "binary=bin(n)\n",
        "#print(binary)\n",
        "bits=[ones for ones in binary[2:] if ones=='1']\n",
        "print(len(bits))"
      ],
      "metadata": {
        "id": "JpkeBhmdvUzH"
      },
      "execution_count": null,
      "outputs": []
    },
    {
      "cell_type": "markdown",
      "source": [
        "9., perform bitwise xor and find the number of ones in its binary representation."
      ],
      "metadata": {
        "id": "HC8clKi4vYAe"
      }
    },
    {
      "cell_type": "code",
      "source": [
        "a,b = map(int,input().split())\n",
        "n=a^b\n",
        "N=str(bin(n))\n",
        "one_count = 0\n",
        "for i in N:\n",
        "    if i == \"1\":\n",
        "       one_count+=1\n",
        "print(one_count)    "
      ],
      "metadata": {
        "id": "9MP4LdJlvdwf"
      },
      "execution_count": null,
      "outputs": []
    },
    {
      "cell_type": "markdown",
      "source": [
        "DATA STRUCTURES:"
      ],
      "metadata": {
        "id": "YUhg5fdBvgT3"
      }
    },
    {
      "cell_type": "markdown",
      "source": [
        "1.print 'yes' if it is balanced otherwise print 'no'."
      ],
      "metadata": {
        "id": "H26Mg3dXvuKN"
      }
    },
    {
      "cell_type": "code",
      "source": [
        "def isbalanced(s):\n",
        "  c= 0\n",
        "  ans=False\n",
        "  for i in s:\n",
        "    if i == \"(\": \n",
        "     c += 1\n",
        "    elif i == \")\":\n",
        "     c-= 1\n",
        "    if c < 0:\n",
        "     return True\n",
        "    if c==0:\n",
        "     return not ans\n",
        "  return False\n",
        "s=input()\n",
        "if isbalanced(s)==True:\n",
        "    print(\"yes\")\n",
        "else:\n",
        "    print(\"no\")"
      ],
      "metadata": {
        "id": "EDvM1Wnmvttj"
      },
      "execution_count": null,
      "outputs": []
    },
    {
      "cell_type": "markdown",
      "source": [
        "2.Write a program to reverse the list and print the list."
      ],
      "metadata": {
        "id": "eRIHM_VUv05i"
      }
    },
    {
      "cell_type": "code",
      "source": [
        "a=int(input())\n",
        "arr1=list(map(int,input().split( )))\n",
        "arr2=list(reversed(arr1))\n",
        "print(*arr2,sep='->')"
      ],
      "metadata": {
        "id": "Xq-9iboZv60Y"
      },
      "execution_count": null,
      "outputs": []
    },
    {
      "cell_type": "markdown",
      "source": [
        "3.Share\n",
        "Given a string S of length N, find whether the given string is a palindrome using stack or linked list and print 'yes' otherwise print 'no'."
      ],
      "metadata": {
        "id": "uGIB_VSYwA9w"
      }
    },
    {
      "cell_type": "code",
      "source": [
        "\n",
        "class Stack:\n",
        "    def __init__(self):\n",
        "        self.items = []\n",
        " \n",
        "    def is_empty(self):\n",
        "        return self.items == []\n",
        " \n",
        "    def push(self, data):\n",
        "        self.items.append(data)\n",
        " \n",
        "    def pop(self):\n",
        "        return self.items.pop()\n",
        " \n",
        " \n",
        "s = Stack()\n",
        "text = input( )\n",
        " \n",
        "for character in text:\n",
        "    s.push(character)\n",
        " \n",
        "reversed_text = ''\n",
        "while not s.is_empty():\n",
        "    reversed_text = reversed_text + s.pop()\n",
        " \n",
        "if text == reversed_text:\n",
        "    print('yes')\n",
        "else:\n",
        "    print('no')"
      ],
      "metadata": {
        "id": "oJMb79SmwF4v"
      },
      "execution_count": null,
      "outputs": []
    },
    {
      "cell_type": "markdown",
      "source": [
        "4.print all permutations of the string in a separate line."
      ],
      "metadata": {
        "id": "Gg5pIi5MwJED"
      }
    },
    {
      "cell_type": "code",
      "source": [
        "import itertools\n",
        "a_string = input()\n",
        "string_permutations = itertools.permutations(a_string)\n",
        "string_permutations = list(string_permutations)\n",
        "string_permutations = [''.join(permutation)for permutation in string_permutations]\n",
        "for l in string_permutations:\n",
        "    print(l)"
      ],
      "metadata": {
        "id": "yi2m_jKjwNf9"
      },
      "execution_count": null,
      "outputs": []
    },
    {
      "cell_type": "markdown",
      "source": [
        "ZOHO:"
      ],
      "metadata": {
        "id": "HmFamDqawQrN"
      }
    },
    {
      "cell_type": "markdown",
      "source": [
        "1.print all permutations of the string in a separate line."
      ],
      "metadata": {
        "id": "0uwT4ySZwdbm"
      }
    },
    {
      "cell_type": "code",
      "source": [
        "import itertools\n",
        "a_string = input()\n",
        "string_permutations = itertools.permutations(a_string)\n",
        "string_permutations = list(string_permutations)\n",
        "string_permutations = [''.join(permutation)for permutation in string_permutations]\n",
        "for l in string_permutations:\n",
        "    print(l)"
      ],
      "metadata": {
        "id": "szYIVoeUwgXG"
      },
      "execution_count": null,
      "outputs": []
    },
    {
      "cell_type": "markdown",
      "source": [
        "ACCOLITE:"
      ],
      "metadata": {
        "id": "_XgfWRDuwiqw"
      }
    },
    {
      "cell_type": "markdown",
      "source": [
        "1.if array B is a subset of array A"
      ],
      "metadata": {
        "id": "3NWHzwZswtjk"
      }
    },
    {
      "cell_type": "code",
      "source": [
        "n,m=map(int,input().split())\n",
        "arr1=list(map(int,input().split()))\n",
        "arr2=list(map(int,input().split()))\n",
        "flag = True\n",
        "for i in arr2:\n",
        "    if i not in arr1:\n",
        "        flag = False\n",
        "        break\n",
        "if (flag):\n",
        "    print(\"yes\")\n",
        "else:\n",
        "    print(\"no\")"
      ],
      "metadata": {
        "id": "LMZv8Hg2wu8L"
      },
      "execution_count": null,
      "outputs": []
    },
    {
      "cell_type": "markdown",
      "source": [
        "MATRIX"
      ],
      "metadata": {
        "id": "DPwroXJ0wyXp"
      }
    },
    {
      "cell_type": "markdown",
      "source": [
        "find the product of the sum of diagonals.\n",
        "Input Size : N <= 1000"
      ],
      "metadata": {
        "id": "yh1fpK1wxAMK"
      }
    },
    {
      "cell_type": "code",
      "source": [
        "\n",
        "\n",
        "num = int(input())\n",
        "a,b=map(int,input().split())\n",
        "c,d= map(int,input().split())\n",
        "p=c+b\n",
        "q=a+d\n",
        "sum=p*q\n",
        "print(sum)"
      ],
      "metadata": {
        "id": "wpDy5wMSxClD"
      },
      "execution_count": null,
      "outputs": []
    },
    {
      "cell_type": "markdown",
      "source": [
        ""
      ],
      "metadata": {
        "id": "ZO9meDy1xE3T"
      }
    }
  ]
}