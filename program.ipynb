{
  "nbformat": 4,
  "nbformat_minor": 0,
  "metadata": {
    "colab": {
      "name": "program.ipynb",
      "provenance": [],
      "authorship_tag": "ABX9TyN+PX768rLVO3m97ytKzkUq",
      "include_colab_link": true
    },
    "kernelspec": {
      "name": "python3",
      "display_name": "Python 3"
    },
    "language_info": {
      "name": "python"
    }
  },
  "cells": [
    {
      "cell_type": "markdown",
      "metadata": {
        "id": "view-in-github",
        "colab_type": "text"
      },
      "source": [
        "<a href=\"https://colab.research.google.com/github/krithi65/BITWISE/blob/main/program.ipynb\" target=\"_parent\"><img src=\"https://colab.research.google.com/assets/colab-badge.svg\" alt=\"Open In Colab\"/></a>"
      ]
    },
    {
      "cell_type": "markdown",
      "source": [
        "1.find the Bitwise OR of the array elements."
      ],
      "metadata": {
        "id": "YruzoNtdp_uZ"
      }
    },
    {
      "cell_type": "code",
      "source": [
        "n = int(input( ))\n",
        "data = list(map(int,input( ).split( )))\n",
        "c = (data[0]|data[1])\n",
        "print(c)"
      ],
      "metadata": {
        "id": "WzhSOlR1qCWx"
      },
      "execution_count": null,
      "outputs": []
    },
    {
      "cell_type": "markdown",
      "source": [
        "2.Given an array of N elements switch(swap) the element with the adjacent element and print the output."
      ],
      "metadata": {
        "id": "_j77JTePq893"
      }
    },
    {
      "cell_type": "code",
      "source": [
        "n=int(input( ))\n",
        "data = list(map(int,input( ).split( )))\n",
        "i = 0\n",
        "while i < data.__len__()-1:\n",
        "    t = data[i]\n",
        "    data[i] = data[i + 1]\n",
        "    data[i + 1] = t\n",
        "    i = i + 2\n",
        "print(*data)"
      ],
      "metadata": {
        "id": "_g16SKJvrECW"
      },
      "execution_count": null,
      "outputs": []
    },
    {
      "cell_type": "markdown",
      "source": [
        "3.find the maximum of the elements (using Bitwise AND) and print the output."
      ],
      "metadata": {
        "id": "qc3tqU-zrEuM"
      }
    },
    {
      "cell_type": "code",
      "source": [
        "n=int(input())\n",
        "arr=list(map(int,input().split()))\n",
        "print(max(arr))"
      ],
      "metadata": {
        "id": "5ou-XIu2rJia"
      },
      "execution_count": null,
      "outputs": []
    },
    {
      "cell_type": "markdown",
      "source": [
        "4.a binary number convert it to hexadecimal."
      ],
      "metadata": {
        "id": "NeYZXotzrMKs"
      }
    },
    {
      "cell_type": "code",
      "source": [
        "a=input()\n",
        "b=hex(int(a, 2))\n",
        "print(b[2:])"
      ],
      "metadata": {
        "id": "XyUhkisdrRXu"
      },
      "execution_count": null,
      "outputs": []
    },
    {
      "cell_type": "markdown",
      "source": [
        "5.Print the position of first 1 from right to left, in binary representation of an Integer."
      ],
      "metadata": {
        "id": "yAvwNr-urTyr"
      }
    },
    {
      "cell_type": "code",
      "source": [
        "import math\n",
        "n=int(input())\n",
        "res=math.log2(n&-n)+1\n",
        "print(round(res))"
      ],
      "metadata": {
        "id": "NQzrAlFHrY30"
      },
      "execution_count": null,
      "outputs": []
    },
    {
      "cell_type": "markdown",
      "source": [
        "6.print the number after performing bitwise left shift 'K' times."
      ],
      "metadata": {
        "id": "uuYCYc5Krb8C"
      }
    },
    {
      "cell_type": "code",
      "source": [
        "n,k=map(int,input().split())\n",
        "print(n<<k)"
      ],
      "metadata": {
        "id": "_oKS9y4XrkFU"
      },
      "execution_count": null,
      "outputs": []
    },
    {
      "cell_type": "markdown",
      "source": [
        "7.print the number after performing bitwise right shift 'K' times(upto 2 decimal places)."
      ],
      "metadata": {
        "id": "_wGKYSoxrmd0"
      }
    },
    {
      "cell_type": "code",
      "source": [
        "n,k=map(int,input().split())\n",
        "print(n>>k)"
      ],
      "metadata": {
        "id": "35U-b4oVrtP4"
      },
      "execution_count": null,
      "outputs": []
    },
    {
      "cell_type": "markdown",
      "source": [
        "9.find the Bitwise XOR of the array elements."
      ],
      "metadata": {
        "id": "Ox4ZeOcarwGS"
      }
    },
    {
      "cell_type": "code",
      "source": [
        "n=int(input())\n",
        "arr=input().split()\n",
        "bit=int(n)\n",
        "for i in arr:\n",
        "    bit=bit|int(arr[-1])\n",
        "print(bit)    "
      ],
      "metadata": {
        "id": "YrQ5E2fVr3Bf"
      },
      "execution_count": null,
      "outputs": []
    },
    {
      "cell_type": "markdown",
      "source": [
        "10.find the Bitwise OR of the array elements.\n",
        "\n"
      ],
      "metadata": {
        "id": "7NoKUtpvr5pX"
      }
    },
    {
      "cell_type": "code",
      "source": [
        "n = int(input( ))\n",
        "data = list(map(int,input( ).split( )))\n",
        "c = (data[0]|data[1])\n",
        "print(c)"
      ],
      "metadata": {
        "id": "yoNBttYJsC-4"
      },
      "execution_count": null,
      "outputs": []
    },
    {
      "cell_type": "markdown",
      "source": [
        "SAMSUNG:\n"
      ],
      "metadata": {
        "id": "SkDRuNmTsFWH"
      }
    },
    {
      "cell_type": "markdown",
      "source": [
        "1.print all permutations of the string in a separate line."
      ],
      "metadata": {
        "id": "tFs45MHwsNIR"
      }
    },
    {
      "cell_type": "code",
      "source": [
        "import itertools\n",
        "a_string = input()\n",
        "string_permutations = itertools.permutations(a_string)\n",
        "string_permutations = list(string_permutations)\n",
        "string_permutations = [''.join(permutation)for permutation in string_permutations]\n",
        "for l in string_permutations:\n",
        "    print(l)"
      ],
      "metadata": {
        "id": "oUNQkI0DsV_M"
      },
      "execution_count": null,
      "outputs": []
    },
    {
      "cell_type": "markdown",
      "source": [
        "ALGORITHM:"
      ],
      "metadata": {
        "id": "BBPnbKl4sYlw"
      }
    },
    {
      "cell_type": "markdown",
      "source": [
        "1. a sorted array of N elements, search and tell if an element K is present in the array"
      ],
      "metadata": {
        "id": "3SQRlwi0sfRl"
      }
    },
    {
      "cell_type": "code",
      "source": [
        "n,m=map(int,input().split())\n",
        "arr=list(map(int,input().split()))\n",
        "if m in arr:\n",
        "    print(\"yes\")\n",
        "else:\n",
        "    print(\"no\")"
      ],
      "metadata": {
        "id": "Kxwk5h9eskk5"
      },
      "execution_count": null,
      "outputs": []
    },
    {
      "cell_type": "markdown",
      "source": [
        "2. every number is repeated except for one. Print that one number."
      ],
      "metadata": {
        "id": "5X_1QSZfsm0p"
      }
    },
    {
      "cell_type": "code",
      "source": [
        "n=int(input())\n",
        "si=str(input())\n",
        "l=[]\n",
        "for i in si:\n",
        "    count=si.count(i)\n",
        "    if(count==1):\n",
        "      l.append(i)  \n",
        "for i in l:\n",
        "    print(*l)"
      ],
      "metadata": {
        "id": "vsAMBBZpst1y"
      },
      "execution_count": null,
      "outputs": []
    },
    {
      "cell_type": "markdown",
      "source": [
        "3.check whether they lie on the same line.If they lie on the same line print 'yes' Otherwise print 'no'."
      ],
      "metadata": {
        "id": "XKtQ0SJTswWu"
      }
    },
    {
      "cell_type": "code",
      "source": [
        "x1,y1=map(int,input().split())\n",
        "x2,y2=map(int,input().split())\n",
        "x3,y3=map(int,input().split())\n",
        "a = x1 * (y2 - y3) + x2 * (y3 - y1) + x3 * (y1 - y2)\n",
        "if (a == 0):\n",
        "    print (\"yes\")\n",
        "else:\n",
        "    print (\"no\")"
      ],
      "metadata": {
        "id": "Xw0DGSkxs28y"
      },
      "execution_count": null,
      "outputs": []
    },
    {
      "cell_type": "markdown",
      "source": [
        "HASHING:"
      ],
      "metadata": {
        "id": "8DlWmhRItK7X"
      }
    },
    {
      "cell_type": "markdown",
      "source": [
        "1.find if there are mirror pairs."
      ],
      "metadata": {
        "id": "mTVWwP62tVeW"
      }
    },
    {
      "cell_type": "code",
      "source": [
        "n=int(input())\n",
        "a=[]\n",
        "b=[]\n",
        "for i in range(n):\n",
        " (x,y)=map(str,input().split())\n",
        " a.append(x)\n",
        " b.append(y)\n",
        "if a[0]==b[n-1] and b[0]==a[n-1]:\n",
        "    print(\"YES\")\n",
        "else:\n",
        "    print(\"NO\")"
      ],
      "metadata": {
        "id": "kwz6BARytUl9"
      },
      "execution_count": null,
      "outputs": []
    },
    {
      "cell_type": "markdown",
      "source": [
        "2.Print the number which is repeated twice"
      ],
      "metadata": {
        "id": "Oz-SHzkltZs9"
      }
    },
    {
      "cell_type": "code",
      "source": [
        "import collections\n",
        "n=int(input( ))\n",
        "arr = list(map(int,input( ).split( ))) \n",
        "repeats = [\n",
        "    item \n",
        "    for item, count in collections.Counter(arr).items() \n",
        "    if count == 2\n",
        "]\n",
        "print(*repeats)"
      ],
      "metadata": {
        "id": "4_DHvIhVteIa"
      },
      "execution_count": null,
      "outputs": []
    },
    {
      "cell_type": "markdown",
      "source": [
        "3.Your task is to find the quad ret (x1,x2,x3,x4) which will result the sum in 1"
      ],
      "metadata": {
        "id": "2bb5BCNCthJk"
      }
    },
    {
      "cell_type": "code",
      "source": [
        "n=input()\n",
        "quadret=list(map(int,input().split()))\n",
        "sum=0\n",
        "for i in quadret:\n",
        "    sum=sum+i\n",
        "if sum==1:\n",
        "    print(\"Yes\")\n",
        "else:\n",
        "    print(\"No\")"
      ],
      "metadata": {
        "id": "kyGeOeXqtnZ2"
      },
      "execution_count": null,
      "outputs": []
    }
  ]
}